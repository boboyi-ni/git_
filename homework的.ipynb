{
  "nbformat": 4,
  "nbformat_minor": 0,
  "metadata": {
    "colab": {
      "name": "「註冊系統homework」的副本",
      "provenance": [],
      "collapsed_sections": []
    },
    "kernelspec": {
      "name": "python3",
      "display_name": "Python 3"
    }
  },
  "cells": [
    {
      "cell_type": "code",
      "metadata": {
        "colab": {
          "base_uri": "https://localhost:8080/"
        },
        "id": "wnv_TX2FPCbc",
        "outputId": "f06b90a5-d532-41ae-80d0-b66dcd35576c"
      },
      "source": [
        "#註冊開始\n",
        "#是否結束(y/n):n\n",
        "#請輸入學生姓名:小王\n",
        "#是否結束(y/n):n\n",
        "#請輸入學生姓名:小李\n",
        "#是否結束(y/n):p\n",
        "#輸入錯誤請輸入y/n:y\n",
        "#註冊結束\n",
        "#班級共2人,名稱為小王 小李'''\n",
        "\n",
        "print('註冊開始')\n",
        "\n",
        "student_list=[]\n",
        "while True:\n",
        "  enter = input('是否結束(y/n)')\n",
        "  if enter in ['n']:\n",
        "      student = input('請輸入姓名:')\n",
        "      student_list.append(student)\n",
        "  elif enter in ['y']:\n",
        "        print('註冊結束')\n",
        "        print('班級總人數共',(len(student_list)),'人','名稱:',student_list[:])\n",
        "        break\n",
        "        student_list=False\n",
        "  else:\n",
        "      print('輸入錯誤!請輸入Y/N')"
      ],
      "execution_count": null,
      "outputs": [
        {
          "output_type": "stream",
          "text": [
            "註冊開始\n",
            "是否結束(y/n)n\n",
            "請輸入姓名:小小\n",
            "是否結束(y/n)ㄙ\n",
            "輸入錯誤!請輸入Y/N\n",
            "是否結束(y/n)n\n",
            "請輸入姓名:大大\n",
            "是否結束(y/n)y\n",
            "註冊結束\n",
            "班級總人數共 2 人 名稱: ['小小', '大大']\n"
          ],
          "name": "stdout"
        }
      ]
    },
    {
      "cell_type": "code",
      "metadata": {
        "colab": {
          "base_uri": "https://localhost:8080/"
        },
        "id": "fHjqxjUPo-_8",
        "outputId": "c78b20bb-557e-4b6c-e76d-ed900d0727c5"
      },
      "source": [
        "import random\n",
        "from random import sample\n",
        "list1 = list(range(0,101))\n",
        "list2 = sample(list1,10)\n",
        "list3 = sorted(list2,reverse=True)\n",
        "print ('原數列:',list2)\n",
        "print ('排列後數列:',list3)"
      ],
      "execution_count": null,
      "outputs": [
        {
          "output_type": "stream",
          "text": [
            "原數列: [14, 68, 45, 40, 19, 91, 37, 8, 31, 3]\n",
            "排列後數列: [91, 68, 45, 40, 37, 31, 19, 14, 8, 3]\n"
          ],
          "name": "stdout"
        }
      ]
    },
    {
      "cell_type": "code",
      "metadata": {
        "colab": {
          "base_uri": "https://localhost:8080/"
        },
        "id": "sS0AzFfdcJh0",
        "outputId": "5aee61af-3af7-4dd1-a696-2ebacdeef736"
      },
      "source": [
        "#1~100 隨機取10個數字 用for迴圈排序(不能用sort)import random\n",
        "\n",
        "a = random.sample(range(0,101),10)\n",
        "print('隨機未排序',str(a))\n",
        "for x in range(len(a)-1):\n",
        "  for j in range(len(a)-x-1):\n",
        "    if(a[j]<a[j+1]):\n",
        "      a[j],a[j+1] = a[j+1],a[j]\n",
        "print('排序後',str(a))"
      ],
      "execution_count": null,
      "outputs": [
        {
          "output_type": "stream",
          "text": [
            "隨機未排序 [67, 83, 46, 25, 16, 38, 0, 15, 10, 47]\n",
            "排序後 [83, 67, 47, 46, 38, 25, 16, 15, 10, 0]\n"
          ],
          "name": "stdout"
        }
      ]
    }
  ]
}